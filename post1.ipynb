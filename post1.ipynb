{
 "cells": [
  {
   "cell_type": "code",
   "execution_count": 1,
   "id": "622017ee-53b9-4dcf-b61e-963d0bfade51",
   "metadata": {},
   "outputs": [
    {
     "name": "stdout",
     "output_type": "stream",
     "text": [
      " * Serving Flask app '__main__'\n",
      " * Debug mode: off\n"
     ]
    },
    {
     "name": "stderr",
     "output_type": "stream",
     "text": [
      "WARNING: This is a development server. Do not use it in a production deployment. Use a production WSGI server instead.\n",
      " * Running on all addresses (0.0.0.0)\n",
      " * Running on http://127.0.0.1:1234\n",
      " * Running on http://10.74.1.70:1234\n",
      "Press CTRL+C to quit\n",
      "10.74.1.70 - - [25/Nov/2024 15:18:06] \"POST /ab HTTP/1.1\" 200 -\n"
     ]
    }
   ],
   "source": [
    "from flask import Flask, request\n",
    "\n",
    "app = Flask(__name__)\n",
    "\n",
    "@app.route(\"/ab\", methods=[\"POST\"])\n",
    "def ch():\n",
    "    a = int(request.form.get(\"a\"))\n",
    "    b = int(request.form.get(\"b\"))\n",
    "    c = a + b\n",
    "    return str(c)\n",
    "\n",
    "if __name__ == \"__main__\":\n",
    "    app.run(host='0.0.0.0', port=1234)  # Make it publicly accessible\n"
   ]
  },
  {
   "cell_type": "code",
   "execution_count": null,
   "id": "662dfe33-a0cf-4426-a5a6-bc999fb5cf69",
   "metadata": {},
   "outputs": [],
   "source": []
  }
 ],
 "metadata": {
  "kernelspec": {
   "display_name": "Python 3 (ipykernel)",
   "language": "python",
   "name": "python3"
  },
  "language_info": {
   "codemirror_mode": {
    "name": "ipython",
    "version": 3
   },
   "file_extension": ".py",
   "mimetype": "text/x-python",
   "name": "python",
   "nbconvert_exporter": "python",
   "pygments_lexer": "ipython3",
   "version": "3.12.4"
  }
 },
 "nbformat": 4,
 "nbformat_minor": 5
}
