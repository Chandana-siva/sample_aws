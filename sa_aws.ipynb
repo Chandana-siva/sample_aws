{
 "cells": [
  {
   "cell_type": "code",
   "execution_count": 2,
   "id": "88bfc050-a3dd-4c1e-9f71-e8e7ea5274bd",
   "metadata": {},
   "outputs": [
    {
     "name": "stdout",
     "output_type": "stream",
     "text": [
      "hello siva garu\n"
     ]
    }
   ],
   "source": [
    "print(\"hello siva garu\")"
   ]
  },
  {
   "cell_type": "code",
   "execution_count": 3,
   "id": "16ba1fff-0ad7-4790-9ac3-b436feeddca5",
   "metadata": {},
   "outputs": [
    {
     "data": {
      "text/plain": [
       "'C:\\\\Users\\\\MEDICOVER'"
      ]
     },
     "execution_count": 3,
     "metadata": {},
     "output_type": "execute_result"
    }
   ],
   "source": [
    "pwd"
   ]
  }
 ],
 "metadata": {
  "kernelspec": {
   "display_name": "Python 3 (ipykernel)",
   "language": "python",
   "name": "python3"
  },
  "language_info": {
   "codemirror_mode": {
    "name": "ipython",
    "version": 3
   },
   "file_extension": ".py",
   "mimetype": "text/x-python",
   "name": "python",
   "nbconvert_exporter": "python",
   "pygments_lexer": "ipython3",
   "version": "3.12.4"
  }
 },
 "nbformat": 4,
 "nbformat_minor": 5
}
