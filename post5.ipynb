{
 "cells": [
  {
   "cell_type": "code",
   "execution_count": 1,
   "id": "c38e6267-4ce3-42d7-bcd2-8e60fb21df15",
   "metadata": {},
   "outputs": [
    {
     "name": "stdout",
     "output_type": "stream",
     "text": [
      " * Serving Flask app '__main__'\n",
      " * Debug mode: off\n"
     ]
    },
    {
     "name": "stderr",
     "output_type": "stream",
     "text": [
      "WARNING: This is a development server. Do not use it in a production deployment. Use a production WSGI server instead.\n",
      " * Running on all addresses (0.0.0.0)\n",
      " * Running on http://127.0.0.1:5000\n",
      " * Running on http://10.74.1.70:5000\n",
      "Press CTRL+C to quit\n"
     ]
    }
   ],
   "source": [
    "from sqlalchemy import create_engine, Table, Column, Integer, String, MetaData,LargeBinary,VARCHAR,engine\n",
    "from flask import Flask,request\n",
    "import pymysql\n",
    "\n",
    "# Install pymysql as MySQLdb\n",
    "pymysql.install_as_MySQLdb()\n",
    "\n",
    "app = Flask(__name__)\n",
    "\n",
    "# Use pymysql in the connection URL\n",
    "engine = create_engine('mysql+pymysql://root@localhost/siva')\n",
    "metadata = MetaData()\n",
    "\n",
    "#create table\n",
    "siva=Table(\n",
    "    \"profile3\",metadata,\n",
    "    Column(\"id\",Integer,primary_key=True),\n",
    "    Column(\"first_name\",VARCHAR(20)),\n",
    "    Column(\"last_name\",VARCHAR(20)),\n",
    "    Column(\"gender\",VARCHAR(20)),\n",
    "    Column(\"city\",VARCHAR(20)),\n",
    "    Column(\"age\",Integer)\n",
    ")\n",
    "\n",
    "# Create the table in the database\n",
    "metadata.create_all(engine)\n",
    "\n",
    "@app.route(\"/ds\",methods=[\"POST\"])\n",
    "def ch1():\n",
    "#    binary=request.data\n",
    "#     with open(\"api_binary.jpg\",\"wb\") as f:\n",
    "#         f.write(binary)\n",
    "    a=request.form.get(\"a\")\n",
    "    b=request.form.get(\"b\")\n",
    "    c=request.form.get(\"c\")\n",
    "    d=request.form.get(\"d\")  \n",
    "    e=int(request.form.get(\"e\"))\n",
    "    conn=engine.connect()\n",
    "    conn.execute(siva.insert().values(first_name=a,last_name=b,gender=c,city=d,age=e))\n",
    "\n",
    "    conn.commit()\n",
    "    # Select all users from the table \n",
    "    result = conn.execute(siva.select()) \n",
    "  # Print the results \n",
    "\n",
    " \n",
    "    conn.close()\n",
    "    #print(binary)\n",
    "    return \"success\"\n",
    "if __name__ == \"__main__\":\n",
    "    app.run(host='0.0.0.0', port=5000) "
   ]
  }
 ],
 "metadata": {
  "kernelspec": {
   "display_name": "Python 3 (ipykernel)",
   "language": "python",
   "name": "python3"
  },
  "language_info": {
   "codemirror_mode": {
    "name": "ipython",
    "version": 3
   },
   "file_extension": ".py",
   "mimetype": "text/x-python",
   "name": "python",
   "nbconvert_exporter": "python",
   "pygments_lexer": "ipython3",
   "version": "3.12.4"
  }
 },
 "nbformat": 4,
 "nbformat_minor": 5
}
